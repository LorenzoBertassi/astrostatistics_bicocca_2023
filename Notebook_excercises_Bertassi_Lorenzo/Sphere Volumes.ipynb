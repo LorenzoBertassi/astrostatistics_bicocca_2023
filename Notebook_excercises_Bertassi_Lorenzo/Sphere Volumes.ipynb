{
 "cells": [
  {
   "cell_type": "code",
   "execution_count": 57,
   "id": "582fbdbc",
   "metadata": {},
   "outputs": [],
   "source": [
    "import numpy as np\n",
    "import matplotlib.pyplot as plt\n",
    "import scipy.stats\n",
    "from scipy.stats import uniform"
   ]
  },
  {
   "cell_type": "code",
   "execution_count": 58,
   "id": "65874512",
   "metadata": {},
   "outputs": [],
   "source": [
    "def volumes(N):\n",
    "    V=[1,2]\n",
    "    \n",
    "    for n in range(2,N):\n",
    "        \n",
    "        V.append((2*np.pi/n)*V[n-2])\n",
    "        \n",
    "    return V"
   ]
  },
  {
   "cell_type": "code",
   "execution_count": 83,
   "id": "15d29061",
   "metadata": {},
   "outputs": [],
   "source": [
    "#number of dimensions\n",
    "\n",
    "N=np.arange(1,15,1) \n",
    "\n",
    "#number of sampled points\n",
    "\n",
    "N_points=1000\n",
    "\n",
    "#definition of ratio array\n",
    "\n",
    "ratio=np.array([]) \n",
    "sigma=[]\n",
    "#computing the ratio\n",
    "\n",
    "for n in N:\n",
    "    f=[]\n",
    "    for i in range(0,10):\n",
    "        #sampling points in a quarter of cube\n",
    "        \n",
    "        x=np.array([uniform(0,1).rvs(n) for i in range(N_points)])\n",
    "        \n",
    "        #computing vector modules by Euclidean definition\n",
    "        \n",
    "        radii=np.array([np.sum(x[i]**2)**0.5 for i in range(x.shape[0])])\n",
    "        \n",
    "        #Counting the points inside a quarter of sphere\n",
    "        \n",
    "        N_circle=len(radii[radii<1])\n",
    "        f.append((N_circle/N_points)*2**n)\n",
    "        #Computing the ratio\n",
    "    \n",
    "    ratio=np.append(ratio,np.mean(f))\n",
    "    sigma.append(np.std(f))\n"
   ]
  },
  {
   "cell_type": "code",
   "execution_count": 84,
   "id": "59d4e31f",
   "metadata": {},
   "outputs": [
    {
     "data": {
      "text/plain": [
       "[]"
      ]
     },
     "execution_count": 84,
     "metadata": {},
     "output_type": "execute_result"
    },
    {
     "data": {
      "image/png": "[encoded data removed]",
      "text/plain": [
       "<Figure size 432x288 with 1 Axes>"
      ]
     },
     "metadata": {
      "needs_background": "light"
     },
     "output_type": "display_data"
    }
   ],
   "source": [
    "#Plotting the result\n",
    "plt.plot(volumes(20))\n",
    "plt.errorbar(N,ratio,sigma,ecolor='red',color='black',fmt='o')\n",
    "plt.xlabel('Number of dimensions')\n",
    "plt.ylabel('ratio')\n",
    "plt.plot()"
   ]
  },
  {
   "cell_type": "code",
   "execution_count": null,
   "id": "08de232e",
   "metadata": {},
   "outputs": [],
   "source": []
  }
 ],
 "metadata": {
  "kernelspec": {
   "display_name": "Python 3 (ipykernel)",
   "language": "python",
   "name": "python3"
  },
  "language_info": {
   "codemirror_mode": {
    "name": "ipython",
    "version": 3
   },
   "file_extension": ".py",
   "mimetype": "text/x-python",
   "name": "python",
   "nbconvert_exporter": "python",
   "pygments_lexer": "ipython3",
   "version": "3.9.7"
  }
 },
 "nbformat": 4,
 "nbformat_minor": 5
}
